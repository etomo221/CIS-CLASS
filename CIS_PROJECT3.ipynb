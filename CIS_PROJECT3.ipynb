{
  "nbformat": 4,
  "nbformat_minor": 0,
  "metadata": {
    "colab": {
      "provenance": []
    },
    "kernelspec": {
      "name": "python3",
      "display_name": "Python 3"
    },
    "language_info": {
      "name": "python"
    }
  },
  "cells": [
    {
      "cell_type": "code",
      "source": [
        "from google.colab import files\n",
        "\n",
        "# Upload the file\n",
        "uploaded = files.upload()\n",
        "\n",
        "# Display the uploaded file\n",
        "for filename in uploaded.keys():\n",
        "    print(f'Uploaded file: {filename}')\n"
      ],
      "metadata": {
        "colab": {
          "base_uri": "https://localhost:8080/",
          "height": 148
        },
        "id": "0R5vRARVw9ky",
        "outputId": "6704e0da-2451-4b44-d3f8-34cae5488a43"
      },
      "execution_count": 97,
      "outputs": [
        {
          "output_type": "stream",
          "name": "stderr",
          "text": [
            "/usr/local/lib/python3.10/dist-packages/ipykernel/ipkernel.py:283: DeprecationWarning: `should_run_async` will not call `transform_cell` automatically in the future. Please pass the result to `transformed_cell` argument and any exception that happen during thetransform in `preprocessing_exc_tuple` in IPython 7.17 and above.\n",
            "  and should_run_async(code)\n"
          ]
        },
        {
          "output_type": "display_data",
          "data": {
            "text/plain": [
              "<IPython.core.display.HTML object>"
            ],
            "text/html": [
              "\n",
              "     <input type=\"file\" id=\"files-097983c5-9a64-4db1-b6ef-f3e1ac8707eb\" name=\"files[]\" multiple disabled\n",
              "        style=\"border:none\" />\n",
              "     <output id=\"result-097983c5-9a64-4db1-b6ef-f3e1ac8707eb\">\n",
              "      Upload widget is only available when the cell has been executed in the\n",
              "      current browser session. Please rerun this cell to enable.\n",
              "      </output>\n",
              "      <script>// Copyright 2017 Google LLC\n",
              "//\n",
              "// Licensed under the Apache License, Version 2.0 (the \"License\");\n",
              "// you may not use this file except in compliance with the License.\n",
              "// You may obtain a copy of the License at\n",
              "//\n",
              "//      http://www.apache.org/licenses/LICENSE-2.0\n",
              "//\n",
              "// Unless required by applicable law or agreed to in writing, software\n",
              "// distributed under the License is distributed on an \"AS IS\" BASIS,\n",
              "// WITHOUT WARRANTIES OR CONDITIONS OF ANY KIND, either express or implied.\n",
              "// See the License for the specific language governing permissions and\n",
              "// limitations under the License.\n",
              "\n",
              "/**\n",
              " * @fileoverview Helpers for google.colab Python module.\n",
              " */\n",
              "(function(scope) {\n",
              "function span(text, styleAttributes = {}) {\n",
              "  const element = document.createElement('span');\n",
              "  element.textContent = text;\n",
              "  for (const key of Object.keys(styleAttributes)) {\n",
              "    element.style[key] = styleAttributes[key];\n",
              "  }\n",
              "  return element;\n",
              "}\n",
              "\n",
              "// Max number of bytes which will be uploaded at a time.\n",
              "const MAX_PAYLOAD_SIZE = 100 * 1024;\n",
              "\n",
              "function _uploadFiles(inputId, outputId) {\n",
              "  const steps = uploadFilesStep(inputId, outputId);\n",
              "  const outputElement = document.getElementById(outputId);\n",
              "  // Cache steps on the outputElement to make it available for the next call\n",
              "  // to uploadFilesContinue from Python.\n",
              "  outputElement.steps = steps;\n",
              "\n",
              "  return _uploadFilesContinue(outputId);\n",
              "}\n",
              "\n",
              "// This is roughly an async generator (not supported in the browser yet),\n",
              "// where there are multiple asynchronous steps and the Python side is going\n",
              "// to poll for completion of each step.\n",
              "// This uses a Promise to block the python side on completion of each step,\n",
              "// then passes the result of the previous step as the input to the next step.\n",
              "function _uploadFilesContinue(outputId) {\n",
              "  const outputElement = document.getElementById(outputId);\n",
              "  const steps = outputElement.steps;\n",
              "\n",
              "  const next = steps.next(outputElement.lastPromiseValue);\n",
              "  return Promise.resolve(next.value.promise).then((value) => {\n",
              "    // Cache the last promise value to make it available to the next\n",
              "    // step of the generator.\n",
              "    outputElement.lastPromiseValue = value;\n",
              "    return next.value.response;\n",
              "  });\n",
              "}\n",
              "\n",
              "/**\n",
              " * Generator function which is called between each async step of the upload\n",
              " * process.\n",
              " * @param {string} inputId Element ID of the input file picker element.\n",
              " * @param {string} outputId Element ID of the output display.\n",
              " * @return {!Iterable<!Object>} Iterable of next steps.\n",
              " */\n",
              "function* uploadFilesStep(inputId, outputId) {\n",
              "  const inputElement = document.getElementById(inputId);\n",
              "  inputElement.disabled = false;\n",
              "\n",
              "  const outputElement = document.getElementById(outputId);\n",
              "  outputElement.innerHTML = '';\n",
              "\n",
              "  const pickedPromise = new Promise((resolve) => {\n",
              "    inputElement.addEventListener('change', (e) => {\n",
              "      resolve(e.target.files);\n",
              "    });\n",
              "  });\n",
              "\n",
              "  const cancel = document.createElement('button');\n",
              "  inputElement.parentElement.appendChild(cancel);\n",
              "  cancel.textContent = 'Cancel upload';\n",
              "  const cancelPromise = new Promise((resolve) => {\n",
              "    cancel.onclick = () => {\n",
              "      resolve(null);\n",
              "    };\n",
              "  });\n",
              "\n",
              "  // Wait for the user to pick the files.\n",
              "  const files = yield {\n",
              "    promise: Promise.race([pickedPromise, cancelPromise]),\n",
              "    response: {\n",
              "      action: 'starting',\n",
              "    }\n",
              "  };\n",
              "\n",
              "  cancel.remove();\n",
              "\n",
              "  // Disable the input element since further picks are not allowed.\n",
              "  inputElement.disabled = true;\n",
              "\n",
              "  if (!files) {\n",
              "    return {\n",
              "      response: {\n",
              "        action: 'complete',\n",
              "      }\n",
              "    };\n",
              "  }\n",
              "\n",
              "  for (const file of files) {\n",
              "    const li = document.createElement('li');\n",
              "    li.append(span(file.name, {fontWeight: 'bold'}));\n",
              "    li.append(span(\n",
              "        `(${file.type || 'n/a'}) - ${file.size} bytes, ` +\n",
              "        `last modified: ${\n",
              "            file.lastModifiedDate ? file.lastModifiedDate.toLocaleDateString() :\n",
              "                                    'n/a'} - `));\n",
              "    const percent = span('0% done');\n",
              "    li.appendChild(percent);\n",
              "\n",
              "    outputElement.appendChild(li);\n",
              "\n",
              "    const fileDataPromise = new Promise((resolve) => {\n",
              "      const reader = new FileReader();\n",
              "      reader.onload = (e) => {\n",
              "        resolve(e.target.result);\n",
              "      };\n",
              "      reader.readAsArrayBuffer(file);\n",
              "    });\n",
              "    // Wait for the data to be ready.\n",
              "    let fileData = yield {\n",
              "      promise: fileDataPromise,\n",
              "      response: {\n",
              "        action: 'continue',\n",
              "      }\n",
              "    };\n",
              "\n",
              "    // Use a chunked sending to avoid message size limits. See b/62115660.\n",
              "    let position = 0;\n",
              "    do {\n",
              "      const length = Math.min(fileData.byteLength - position, MAX_PAYLOAD_SIZE);\n",
              "      const chunk = new Uint8Array(fileData, position, length);\n",
              "      position += length;\n",
              "\n",
              "      const base64 = btoa(String.fromCharCode.apply(null, chunk));\n",
              "      yield {\n",
              "        response: {\n",
              "          action: 'append',\n",
              "          file: file.name,\n",
              "          data: base64,\n",
              "        },\n",
              "      };\n",
              "\n",
              "      let percentDone = fileData.byteLength === 0 ?\n",
              "          100 :\n",
              "          Math.round((position / fileData.byteLength) * 100);\n",
              "      percent.textContent = `${percentDone}% done`;\n",
              "\n",
              "    } while (position < fileData.byteLength);\n",
              "  }\n",
              "\n",
              "  // All done.\n",
              "  yield {\n",
              "    response: {\n",
              "      action: 'complete',\n",
              "    }\n",
              "  };\n",
              "}\n",
              "\n",
              "scope.google = scope.google || {};\n",
              "scope.google.colab = scope.google.colab || {};\n",
              "scope.google.colab._files = {\n",
              "  _uploadFiles,\n",
              "  _uploadFilesContinue,\n",
              "};\n",
              "})(self);\n",
              "</script> "
            ]
          },
          "metadata": {}
        },
        {
          "output_type": "stream",
          "name": "stdout",
          "text": [
            "Saving sales_data.csv to sales_data (3).csv\n",
            "Uploaded file: sales_data (3).csv\n"
          ]
        }
      ]
    },
    {
      "cell_type": "markdown",
      "source": [],
      "metadata": {
        "id": "l7mDcnec8Ddd"
      }
    },
    {
      "cell_type": "code",
      "source": [
        "import pandas as pd\n",
        "# Load the CSV file into a DataFrame\n",
        "data = pd.read_csv('sales_data.csv')\n",
        "# Display the first few rows of the DataFrame\n",
        "print(data.head())"
      ],
      "metadata": {
        "colab": {
          "base_uri": "https://localhost:8080/"
        },
        "id": "gQhSRQfJwUqb",
        "outputId": "76f47648-5882-4ca2-ce65-5461d33a3f10"
      },
      "execution_count": 98,
      "outputs": [
        {
          "output_type": "stream",
          "name": "stderr",
          "text": [
            "/usr/local/lib/python3.10/dist-packages/ipykernel/ipkernel.py:283: DeprecationWarning: `should_run_async` will not call `transform_cell` automatically in the future. Please pass the result to `transformed_cell` argument and any exception that happen during thetransform in `preprocessing_exc_tuple` in IPython 7.17 and above.\n",
            "  and should_run_async(code)\n"
          ]
        },
        {
          "output_type": "stream",
          "name": "stdout",
          "text": [
            "         Date      Time  StoreID  CustomerID  OrderID Product Name  Price\n",
            "0  2024-11-21  14:44:53        1           1     3084    Product C   7.99\n",
            "1  2024-11-21  14:44:53        1           1     3084    Product H  15.99\n",
            "2  2024-11-21  14:44:53        1           1     3084    Product I   4.99\n",
            "3  2024-11-21  14:44:53        1           1     3084    Product B   5.49\n",
            "4  2024-11-21  14:44:53        1           1     3084    Product F   8.99\n"
          ]
        }
      ]
    },
    {
      "cell_type": "code",
      "source": [
        "!pip install mlxtend --upgrade\n"
      ],
      "metadata": {
        "colab": {
          "base_uri": "https://localhost:8080/"
        },
        "id": "s0jQROjcGUha",
        "outputId": "cd8ae3c5-a613-4ddb-eb96-3233fce2772d"
      },
      "execution_count": 99,
      "outputs": [
        {
          "output_type": "stream",
          "name": "stderr",
          "text": [
            "/usr/local/lib/python3.10/dist-packages/ipykernel/ipkernel.py:283: DeprecationWarning: `should_run_async` will not call `transform_cell` automatically in the future. Please pass the result to `transformed_cell` argument and any exception that happen during thetransform in `preprocessing_exc_tuple` in IPython 7.17 and above.\n",
            "  and should_run_async(code)\n"
          ]
        },
        {
          "output_type": "stream",
          "name": "stdout",
          "text": [
            "Requirement already satisfied: mlxtend in /usr/local/lib/python3.10/dist-packages (0.23.3)\n",
            "Requirement already satisfied: scipy>=1.2.1 in /usr/local/lib/python3.10/dist-packages (from mlxtend) (1.13.1)\n",
            "Requirement already satisfied: numpy>=1.16.2 in /usr/local/lib/python3.10/dist-packages (from mlxtend) (1.26.4)\n",
            "Requirement already satisfied: pandas>=0.24.2 in /usr/local/lib/python3.10/dist-packages (from mlxtend) (2.2.2)\n",
            "Requirement already satisfied: scikit-learn>=1.3.1 in /usr/local/lib/python3.10/dist-packages (from mlxtend) (1.5.2)\n",
            "Requirement already satisfied: matplotlib>=3.0.0 in /usr/local/lib/python3.10/dist-packages (from mlxtend) (3.8.0)\n",
            "Requirement already satisfied: joblib>=0.13.2 in /usr/local/lib/python3.10/dist-packages (from mlxtend) (1.4.2)\n",
            "Requirement already satisfied: contourpy>=1.0.1 in /usr/local/lib/python3.10/dist-packages (from matplotlib>=3.0.0->mlxtend) (1.3.1)\n",
            "Requirement already satisfied: cycler>=0.10 in /usr/local/lib/python3.10/dist-packages (from matplotlib>=3.0.0->mlxtend) (0.12.1)\n",
            "Requirement already satisfied: fonttools>=4.22.0 in /usr/local/lib/python3.10/dist-packages (from matplotlib>=3.0.0->mlxtend) (4.55.3)\n",
            "Requirement already satisfied: kiwisolver>=1.0.1 in /usr/local/lib/python3.10/dist-packages (from matplotlib>=3.0.0->mlxtend) (1.4.7)\n",
            "Requirement already satisfied: packaging>=20.0 in /usr/local/lib/python3.10/dist-packages (from matplotlib>=3.0.0->mlxtend) (24.2)\n",
            "Requirement already satisfied: pillow>=6.2.0 in /usr/local/lib/python3.10/dist-packages (from matplotlib>=3.0.0->mlxtend) (11.0.0)\n",
            "Requirement already satisfied: pyparsing>=2.3.1 in /usr/local/lib/python3.10/dist-packages (from matplotlib>=3.0.0->mlxtend) (3.2.0)\n",
            "Requirement already satisfied: python-dateutil>=2.7 in /usr/local/lib/python3.10/dist-packages (from matplotlib>=3.0.0->mlxtend) (2.8.2)\n",
            "Requirement already satisfied: pytz>=2020.1 in /usr/local/lib/python3.10/dist-packages (from pandas>=0.24.2->mlxtend) (2024.2)\n",
            "Requirement already satisfied: tzdata>=2022.7 in /usr/local/lib/python3.10/dist-packages (from pandas>=0.24.2->mlxtend) (2024.2)\n",
            "Requirement already satisfied: threadpoolctl>=3.1.0 in /usr/local/lib/python3.10/dist-packages (from scikit-learn>=1.3.1->mlxtend) (3.5.0)\n",
            "Requirement already satisfied: six>=1.5 in /usr/local/lib/python3.10/dist-packages (from python-dateutil>=2.7->matplotlib>=3.0.0->mlxtend) (1.17.0)\n"
          ]
        }
      ]
    },
    {
      "cell_type": "markdown",
      "source": [],
      "metadata": {
        "id": "lPmeAy2ADbNb"
      }
    },
    {
      "cell_type": "code",
      "source": [
        "# prompt: Market basket analysis, performed across your corporate data.groups the data by OrderID and aggregates the Product Name into a list for each order. The result is stored in a DataFrame called orders.This converts the aggregated Product Name lists into a list of transactions\n",
        "\n",
        "from mlxtend.preprocessing import TransactionEncoder\n",
        "\n",
        "# Group the data by OrderID and aggregate Product Name into a list\n",
        "orders = data.groupby('OrderID')['Product Name'].agg(list).reset_index()\n",
        "\n",
        "# Convert the Product Name lists into a list of transactions\n",
        "transactions = orders['Product Name'].tolist()\n",
        "\n",
        "# Initialize the TransactionEncoder\n",
        "te = TransactionEncoder()\n",
        "\n",
        "# Fit the TransactionEncoder and transform the transactions\n",
        "te_ary = te.fit(transactions).transform(transactions)\n",
        "\n",
        "# Create a new DataFrame from the transformed transactions\n",
        "df = pd.DataFrame(te_ary, columns=te.columns_)\n",
        "\n",
        "print(df.head())"
      ],
      "metadata": {
        "colab": {
          "base_uri": "https://localhost:8080/"
        },
        "id": "XX0yhXlZNJy3",
        "outputId": "9f96b1cc-01d3-4b7f-b620-8a2984446868"
      },
      "execution_count": 100,
      "outputs": [
        {
          "output_type": "stream",
          "name": "stderr",
          "text": [
            "/usr/local/lib/python3.10/dist-packages/ipykernel/ipkernel.py:283: DeprecationWarning: `should_run_async` will not call `transform_cell` automatically in the future. Please pass the result to `transformed_cell` argument and any exception that happen during thetransform in `preprocessing_exc_tuple` in IPython 7.17 and above.\n",
            "  and should_run_async(code)\n"
          ]
        },
        {
          "output_type": "stream",
          "name": "stdout",
          "text": [
            "   Product A  Product B  Product C  Product D  Product E  Product F  \\\n",
            "0       True       True       True       True       True       True   \n",
            "1       True       True       True       True       True       True   \n",
            "2       True       True       True       True       True       True   \n",
            "3       True       True       True       True       True       True   \n",
            "4       True       True       True       True       True       True   \n",
            "\n",
            "   Product G  Product H  Product I  Product J  \n",
            "0       True       True       True       True  \n",
            "1       True       True       True       True  \n",
            "2       True       True       True       True  \n",
            "3       True       True       True       True  \n",
            "4       True       True       True      False  \n"
          ]
        }
      ]
    },
    {
      "cell_type": "code",
      "source": [
        "import pandas as pd\n",
        "from mlxtend.preprocessing import TransactionEncoder\n",
        "from mlxtend.frequent_patterns import apriori, association_rules\n",
        "\n",
        "# Load the CSV file into a DataFrame\n",
        "data = pd.read_csv('sales_data.csv')\n",
        "\n",
        "# Group by OrderID and aggregate Product Names into a list\n",
        "orders = data.groupby('OrderID')['Product Name'].apply(list).reset_index()\n",
        "\n",
        "# Create a list of transactions\n",
        "transactions = orders['Product Name'].tolist()\n",
        "\n",
        "# Convert the list of products into a suitable format for mlxtend\n",
        "te = TransactionEncoder()\n",
        "te_ary = te.fit(transactions).transform(transactions)\n",
        "df = pd.DataFrame(te_ary, columns=te.columns_)\n",
        "\n",
        "# Apply Apriori algorithm to find frequent itemsets\n",
        "frequent_itemsets = apriori(df, min_support=0.01, use_colnames=True)\n",
        "\n",
        "# Generate association rules\n",
        "num_itemsets = len(transactions)  # Number of transactions in the original input data\n",
        "rules = association_rules(frequent_itemsets, metric=\"lift\", min_threshold=1, support_only=False, num_itemsets=num_itemsets)\n",
        "\n",
        "# Display the frequent itemsets\n",
        "print(\"Frequent Itemsets:\")\n",
        "print(frequent_itemsets)\n",
        "\n",
        "# Display the association rules\n",
        "print(\"\\nAssociation Rules:\")\n",
        "print(rules)\n",
        "\n",
        "\n",
        "\n"
      ],
      "metadata": {
        "colab": {
          "base_uri": "https://localhost:8080/"
        },
        "id": "6BWcULjTH5KY",
        "outputId": "6956909f-a4f5-4331-e2fe-2b6fcf301b22"
      },
      "execution_count": 101,
      "outputs": [
        {
          "output_type": "stream",
          "name": "stderr",
          "text": [
            "/usr/local/lib/python3.10/dist-packages/ipykernel/ipkernel.py:283: DeprecationWarning: `should_run_async` will not call `transform_cell` automatically in the future. Please pass the result to `transformed_cell` argument and any exception that happen during thetransform in `preprocessing_exc_tuple` in IPython 7.17 and above.\n",
            "  and should_run_async(code)\n"
          ]
        },
        {
          "output_type": "stream",
          "name": "stdout",
          "text": [
            "Frequent Itemsets:\n",
            "       support                                           itemsets\n",
            "0     0.997111                                        (Product A)\n",
            "1     0.996667                                        (Product B)\n",
            "2     0.997333                                        (Product C)\n",
            "3     0.996556                                        (Product D)\n",
            "4     0.996778                                        (Product E)\n",
            "...        ...                                                ...\n",
            "1018  0.974778  (Product C, Product H, Product E, Product B, P...\n",
            "1019  0.973556  (Product H, Product E, Product B, Product D, P...\n",
            "1020  0.974444  (Product C, Product H, Product E, Product D, P...\n",
            "1021  0.974333  (Product C, Product H, Product E, Product B, P...\n",
            "1022  0.971444  (Product C, Product H, Product E, Product B, P...\n",
            "\n",
            "[1023 rows x 2 columns]\n",
            "\n",
            "Association Rules:\n",
            "       antecedents                                        consequents  \\\n",
            "0      (Product C)                                        (Product B)   \n",
            "1      (Product B)                                        (Product C)   \n",
            "2      (Product J)                                        (Product B)   \n",
            "3      (Product B)                                        (Product J)   \n",
            "4      (Product C)                                        (Product F)   \n",
            "...            ...                                                ...   \n",
            "35855  (Product H)  (Product C, Product E, Product B, Product D, P...   \n",
            "35856  (Product B)  (Product C, Product H, Product E, Product D, P...   \n",
            "35857  (Product D)  (Product C, Product H, Product E, Product B, P...   \n",
            "35858  (Product F)  (Product C, Product H, Product E, Product B, P...   \n",
            "35859  (Product J)  (Product C, Product H, Product E, Product B, P...   \n",
            "\n",
            "       antecedent support  consequent support   support  confidence      lift  \\\n",
            "0                0.997333            0.996667  0.994222    0.996881  1.000215   \n",
            "1                0.996667            0.997333  0.994222    0.997547  1.000215   \n",
            "2                0.997000            0.996667  0.993778    0.996768  1.000102   \n",
            "3                0.996667            0.997000  0.993778    0.997101  1.000102   \n",
            "4                0.997333            0.997333  0.994889    0.997549  1.000216   \n",
            "...                   ...                 ...       ...         ...       ...   \n",
            "35855            0.997000            0.974333  0.971444    0.974368  1.000035   \n",
            "35856            0.996667            0.974444  0.971444    0.974693  1.000256   \n",
            "35857            0.996556            0.974778  0.971444    0.974802  1.000025   \n",
            "35858            0.997333            0.973889  0.971444    0.974042  1.000157   \n",
            "35859            0.997000            0.974222  0.971444    0.974368  1.000149   \n",
            "\n",
            "       representativity  leverage  conviction  zhangs_metric   jaccard  \\\n",
            "0                   1.0  0.000213    1.068571       0.080465  0.994443   \n",
            "1                   1.0  0.000213    1.087273       0.064372  0.994443   \n",
            "2                   1.0  0.000101    1.031379       0.033915  0.993888   \n",
            "3                   1.0  0.000101    1.035000       0.030523  0.993888   \n",
            "4                   1.0  0.000215    1.088000       0.081081  0.995110   \n",
            "...                 ...       ...         ...            ...       ...   \n",
            "35855               1.0  0.000034    1.001335       0.011705  0.971552   \n",
            "35856               1.0  0.000248    1.009838       0.076633  0.971768   \n",
            "35857               1.0  0.000024    1.000965       0.007243  0.971552   \n",
            "35858               1.0  0.000153    1.005894       0.058904  0.971660   \n",
            "35859               1.0  0.000145    1.005670       0.049716  0.971660   \n",
            "\n",
            "       certainty  kulczynski  \n",
            "0       0.064171    0.997214  \n",
            "1       0.080268    0.997214  \n",
            "2       0.030425    0.996935  \n",
            "3       0.033816    0.996935  \n",
            "4       0.080882    0.997549  \n",
            "...          ...         ...  \n",
            "35855   0.001333    0.985701  \n",
            "35856   0.009743    0.985807  \n",
            "35857   0.000964    0.985691  \n",
            "35858   0.005860    0.985766  \n",
            "35859   0.005638    0.985758  \n",
            "\n",
            "[35860 rows x 14 columns]\n"
          ]
        }
      ]
    }
  ]
}